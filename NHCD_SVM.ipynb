{
  "nbformat": 4,
  "nbformat_minor": 0,
  "metadata": {
    "colab": {
      "name": "NHCD_SVM.ipynb",
      "provenance": [],
      "collapsed_sections": [],
      "toc_visible": true
    },
    "kernelspec": {
      "display_name": "Python 3",
      "name": "python3"
    }
  },
  "cells": [
    {
      "cell_type": "markdown",
      "metadata": {
        "id": "BZw3WPNM1e72"
      },
      "source": [
        "# **OUTPUT SPECIFICATIONS**"
      ]
    },
    {
      "cell_type": "code",
      "metadata": {
        "id": "AzmTJKajstt9"
      },
      "source": [
        "# FOR NUMERALS CLASS LABELS AND OUTPUTS ARE SAME 0-9\n",
        "# FOR VOWELS USE FOLLOWING DICTIONARY FOR PRINTING\n",
        "vowel= {10:'औ',\n",
        "11:'अं',\n",
        "12:'अः',\n",
        "1:'अ',\n",
        "2:'आ',\n",
        "3:'इ',\n",
        "4:'ई',\n",
        "5:'उ',\n",
        "6:'ऊ',\n",
        "7:'ए',\n",
        "8:'ऐ',\n",
        "9:'ओ'\n",
        "}"
      ],
      "execution_count": null,
      "outputs": []
    },
    {
      "cell_type": "code",
      "metadata": {
        "id": "1tExtQX-ste3"
      },
      "source": [
        "# FOR CONSONANTS USE FOLLOWING DINCTIONARY\n",
        "\n",
        "consonant = {10:'ञ',\n",
        "11:'ट',\n",
        "12:'ठ',\n",
        "13:'ड',\n",
        "14:'ढ',\n",
        "15:'ण',\n",
        "16:'त',\n",
        "17:'थ',\n",
        "18:'द',\n",
        "19:'ध',\n",
        "1:'क',\n",
        "20:'न',\n",
        "21:'प',\n",
        "22:'फ',\n",
        "23:'ब',\n",
        "24:'भ',\n",
        "25:'म',\n",
        "26:'य',\n",
        "27:'र',\n",
        "28:'ल',\n",
        "29:'व',\n",
        "2:'ख',\n",
        "30:'श',\n",
        "31:'ष',\n",
        "32:'स',\n",
        "33:'ह',\n",
        "34:'क्ष',\n",
        "35:'त्र',\n",
        "36:'ज्ञ',\n",
        "3:'ग',\n",
        "4:'घ',\n",
        "5:'ङ',\n",
        "6:'च',\n",
        "7:'छ',\n",
        "8:'ज',\n",
        "9:'झ'\n",
        "}\n"
      ],
      "execution_count": null,
      "outputs": []
    },
    {
      "cell_type": "code",
      "metadata": {
        "id": "ZV8jLv_ipx9o"
      },
      "source": [
        "import pandas as pd \n",
        "import numpy as np\n",
        "import os\n",
        "import cv2\n",
        "import matplotlib.pyplot as plt\n",
        "from PIL import Image\n",
        "from IPython.display import display\n",
        "import pickle\n",
        "import random\n",
        "from sklearn.model_selection import train_test_split\n",
        "from sklearn.metrics import classification_report"
      ],
      "execution_count": null,
      "outputs": []
    },
    {
      "cell_type": "markdown",
      "metadata": {
        "id": "3klvVCryvI9h"
      },
      "source": [
        "#**SVM FOR NUMERALS**"
      ]
    },
    {
      "cell_type": "code",
      "metadata": {
        "id": "CcLaVwqxqh_w"
      },
      "source": [
        "pick_in = open('nhcd_numeral_svm','rb')\n",
        "data=pickle.load(pick_in)\n",
        "pick_in.close()"
      ],
      "execution_count": null,
      "outputs": []
    },
    {
      "cell_type": "code",
      "metadata": {
        "id": "gdLx_nt5qoTC"
      },
      "source": [
        "random.shuffle(data)\n",
        "features=[]\n",
        "labels=[]\n",
        "\n",
        "for feature,label in data:\n",
        "    features.append(feature)\n",
        "    labels.append(label)\n",
        "\n",
        "\n",
        "x_train,x_test,y_train,y_test = train_test_split(features,labels,test_size=0.10)"
      ],
      "execution_count": null,
      "outputs": []
    },
    {
      "cell_type": "code",
      "metadata": {
        "colab": {
          "base_uri": "https://localhost:8080/"
        },
        "id": "7p2e8AJrquit",
        "outputId": "9b11497c-5c65-4056-8a9e-290ae3181f58"
      },
      "source": [
        "x_train=np.array(x_train)\n",
        "x_test=np.array(x_test)\n",
        "print(x_train[0].shape)\n",
        "print(x_test[0].shape)"
      ],
      "execution_count": null,
      "outputs": [
        {
          "output_type": "stream",
          "text": [
            "(784,)\n",
            "(784,)\n"
          ],
          "name": "stdout"
        }
      ]
    },
    {
      "cell_type": "code",
      "metadata": {
        "colab": {
          "base_uri": "https://localhost:8080/"
        },
        "id": "O2_7m35jOIAz",
        "outputId": "d6282a2d-abca-4e7a-ca16-7412511fadd2"
      },
      "source": [
        "from sklearn.svm import SVC\n",
        "model = SVC()\n",
        "model.fit(x_train,y_train)"
      ],
      "execution_count": null,
      "outputs": [
        {
          "output_type": "execute_result",
          "data": {
            "text/plain": [
              "SVC(C=50, break_ties=False, cache_size=200, class_weight='balanced', coef0=0.0,\n",
              "    decision_function_shape='ovr', degree=3, gamma=0.5, kernel='rbf',\n",
              "    max_iter=-1, probability=False, random_state=None, shrinking=True,\n",
              "    tol=0.001, verbose=False)"
            ]
          },
          "metadata": {
            "tags": []
          },
          "execution_count": 36
        }
      ]
    },
    {
      "cell_type": "code",
      "metadata": {
        "id": "LW5M3bj6OH25"
      },
      "source": [
        "pred = model.predict(x_test)"
      ],
      "execution_count": null,
      "outputs": []
    },
    {
      "cell_type": "code",
      "metadata": {
        "colab": {
          "base_uri": "https://localhost:8080/"
        },
        "id": "AKl81BrxvCFT",
        "outputId": "647458a7-dd2a-4ea0-9494-0a4eb6380872"
      },
      "source": [
        "print(classification_report(pred,y_test))"
      ],
      "execution_count": null,
      "outputs": [
        {
          "output_type": "stream",
          "text": [
            "              precision    recall  f1-score   support\n",
            "\n",
            "           0       0.00      0.00      0.00         0\n",
            "           1       0.00      0.00      0.00         0\n",
            "           2       0.00      0.00      0.00         0\n",
            "           3       0.00      0.00      0.00         0\n",
            "           4       0.00      0.00      0.00         0\n",
            "           5       0.00      0.00      0.00         0\n",
            "           6       0.00      0.00      0.00         0\n",
            "           7       0.00      0.00      0.00         0\n",
            "           8       0.00      0.00      0.00         0\n",
            "           9       1.00      0.09      0.16       288\n",
            "\n",
            "    accuracy                           0.09       288\n",
            "   macro avg       0.10      0.01      0.02       288\n",
            "weighted avg       1.00      0.09      0.16       288\n",
            "\n"
          ],
          "name": "stdout"
        },
        {
          "output_type": "stream",
          "text": [
            "/usr/local/lib/python3.7/dist-packages/sklearn/metrics/_classification.py:1272: UndefinedMetricWarning: Recall and F-score are ill-defined and being set to 0.0 in labels with no true samples. Use `zero_division` parameter to control this behavior.\n",
            "  _warn_prf(average, modifier, msg_start, len(result))\n"
          ],
          "name": "stderr"
        }
      ]
    },
    {
      "cell_type": "code",
      "metadata": {
        "id": "r-yK-BTJRKPY"
      },
      "source": [
        "from skimage import io, color\n",
        "lina_color = io.imread(\"inv1.png\")\n",
        "lina_gray = color.rgb2gray(lina_color)"
      ],
      "execution_count": null,
      "outputs": []
    },
    {
      "cell_type": "code",
      "metadata": {
        "colab": {
          "base_uri": "https://localhost:8080/"
        },
        "id": "PJ3Kw99GRxPy",
        "outputId": "c84fd2fe-cbec-492f-a276-94fcb81efb3b"
      },
      "source": [
        "lina_gray.shape"
      ],
      "execution_count": null,
      "outputs": [
        {
          "output_type": "execute_result",
          "data": {
            "text/plain": [
              "(28, 28)"
            ]
          },
          "metadata": {
            "tags": []
          },
          "execution_count": 29
        }
      ]
    },
    {
      "cell_type": "code",
      "metadata": {
        "id": "PUpUKbe0R1U1"
      },
      "source": [
        "arr1 = lina_gray.flatten()\n",
        "arr = list(arr1)"
      ],
      "execution_count": null,
      "outputs": []
    },
    {
      "cell_type": "code",
      "metadata": {
        "colab": {
          "base_uri": "https://localhost:8080/",
          "height": 36
        },
        "id": "qUsROXE7q1DC",
        "outputId": "5e206569-6592-42b0-e698-43758613c879"
      },
      "source": [
        "pred = model.predict([arr1])\n",
        "pred[0]"
      ],
      "execution_count": null,
      "outputs": [
        {
          "output_type": "execute_result",
          "data": {
            "application/vnd.google.colaboratory.intrinsic+json": {
              "type": "string"
            },
            "text/plain": [
              "'3'"
            ]
          },
          "metadata": {
            "tags": []
          },
          "execution_count": 31
        }
      ]
    },
    {
      "cell_type": "code",
      "metadata": {
        "colab": {
          "base_uri": "https://localhost:8080/"
        },
        "id": "IXLbyMcESGB8",
        "outputId": "aaef5019-d861-4ac9-91b6-1e1d860befe4"
      },
      "source": [
        "from skimage import io, color\n",
        "lina_color = io.imread(\"inv.png\")\n",
        "lina_gray = color.rgb2gray(lina_color)\n",
        "lina_gray.shape\n",
        "img = lina_gray.flatten()\n",
        "img.shape\n",
        "prediction = model.predict([x_test[35]])\n",
        "prediction"
      ],
      "execution_count": null,
      "outputs": [
        {
          "output_type": "execute_result",
          "data": {
            "text/plain": [
              "array(['5'], dtype='<U1')"
            ]
          },
          "metadata": {
            "tags": []
          },
          "execution_count": 30
        }
      ]
    },
    {
      "cell_type": "code",
      "metadata": {
        "id": "TCfL0RBsWGB-"
      },
      "source": [
        "pred2 = model.predict(x_test[35].reshape(1,-1))"
      ],
      "execution_count": null,
      "outputs": []
    },
    {
      "cell_type": "code",
      "metadata": {
        "colab": {
          "base_uri": "https://localhost:8080/"
        },
        "id": "hs6pXG_aWNS-",
        "outputId": "363a2752-13cf-4125-fd14-4c98c1f6bae2"
      },
      "source": [
        "pred2"
      ],
      "execution_count": null,
      "outputs": [
        {
          "output_type": "execute_result",
          "data": {
            "text/plain": [
              "array(['5'], dtype='<U1')"
            ]
          },
          "metadata": {
            "tags": []
          },
          "execution_count": 13
        }
      ]
    },
    {
      "cell_type": "code",
      "metadata": {
        "colab": {
          "base_uri": "https://localhost:8080/",
          "height": 35
        },
        "id": "5rKW6Vz8WNPq",
        "outputId": "e925ee08-5385-4392-ce99-22a9899c3d3e"
      },
      "source": [
        "y_test[35]"
      ],
      "execution_count": null,
      "outputs": [
        {
          "output_type": "execute_result",
          "data": {
            "application/vnd.google.colaboratory.intrinsic+json": {
              "type": "string"
            },
            "text/plain": [
              "'5'"
            ]
          },
          "metadata": {
            "tags": []
          },
          "execution_count": 14
        }
      ]
    },
    {
      "cell_type": "markdown",
      "metadata": {
        "id": "H5hyb-RLvWUi"
      },
      "source": [
        "# **SVM FOR CONSONANTS**"
      ]
    },
    {
      "cell_type": "code",
      "metadata": {
        "id": "9usf7JWcvCCw"
      },
      "source": [
        "pick_in = open('nhcd_consonants_svm','rb')\n",
        "data=pickle.load(pick_in)\n",
        "pick_in.close()"
      ],
      "execution_count": null,
      "outputs": []
    },
    {
      "cell_type": "code",
      "metadata": {
        "id": "yezuhJX_vCAS"
      },
      "source": [
        "random.shuffle(data)\n",
        "features=[]\n",
        "labels=[]\n",
        "\n",
        "for feature,label in data:\n",
        "    features.append(feature)\n",
        "    labels.append(label)\n",
        "\n",
        "x_train,x_test,y_train,y_test = train_test_split(features,labels,test_size=0.25)"
      ],
      "execution_count": null,
      "outputs": []
    },
    {
      "cell_type": "code",
      "metadata": {
        "colab": {
          "base_uri": "https://localhost:8080/"
        },
        "id": "SsGBcbNovmqo",
        "outputId": "fb50c0d8-23fd-4bf2-e05d-acca31bc4f05"
      },
      "source": [
        "x_train=np.array(x_train)\n",
        "x_test=np.array(x_test)\n",
        "print(x_train[0].shape)\n",
        "print(x_test[0].shape)"
      ],
      "execution_count": null,
      "outputs": [
        {
          "output_type": "stream",
          "text": [
            "(784,)\n",
            "(784,)\n"
          ],
          "name": "stdout"
        }
      ]
    },
    {
      "cell_type": "code",
      "metadata": {
        "colab": {
          "base_uri": "https://localhost:8080/"
        },
        "id": "Jhoex-jkP5Nb",
        "outputId": "0dbe41a6-c133-4931-836d-6dd85f121d02"
      },
      "source": [
        "from sklearn.svm import SVC\n",
        "model = SVC()\n",
        "model.fit(x_train,y_train)"
      ],
      "execution_count": null,
      "outputs": [
        {
          "output_type": "execute_result",
          "data": {
            "text/plain": [
              "SVC(C=1.0, break_ties=False, cache_size=200, class_weight=None, coef0=0.0,\n",
              "    decision_function_shape='ovr', degree=3, gamma='scale', kernel='rbf',\n",
              "    max_iter=-1, probability=False, random_state=None, shrinking=True,\n",
              "    tol=0.001, verbose=False)"
            ]
          },
          "metadata": {
            "tags": []
          },
          "execution_count": 18
        }
      ]
    },
    {
      "cell_type": "code",
      "metadata": {
        "id": "hqSDgIrDP9hL"
      },
      "source": [
        "pred = model.predict(x_test)"
      ],
      "execution_count": null,
      "outputs": []
    },
    {
      "cell_type": "code",
      "metadata": {
        "colab": {
          "base_uri": "https://localhost:8080/"
        },
        "id": "ZoYzlzdmQB7U",
        "outputId": "b9083ee0-e5c0-4769-aae3-6f3cc6210f94"
      },
      "source": [
        "print(classification_report(pred,y_test))"
      ],
      "execution_count": null,
      "outputs": [
        {
          "output_type": "stream",
          "text": [
            "              precision    recall  f1-score   support\n",
            "\n",
            "           0       1.00      1.00      1.00        60\n",
            "           1       1.00      1.00      1.00        72\n",
            "           2       0.93      0.96      0.94        70\n",
            "           3       0.93      0.93      0.93        60\n",
            "           4       1.00      0.95      0.97        78\n",
            "           5       0.96      0.97      0.97        76\n",
            "           6       0.97      0.97      0.97        78\n",
            "           7       0.96      0.99      0.97        76\n",
            "           8       1.00      1.00      1.00        74\n",
            "           9       0.97      0.96      0.97        76\n",
            "\n",
            "    accuracy                           0.97       720\n",
            "   macro avg       0.97      0.97      0.97       720\n",
            "weighted avg       0.97      0.97      0.97       720\n",
            "\n"
          ],
          "name": "stdout"
        }
      ]
    },
    {
      "cell_type": "code",
      "metadata": {
        "id": "nRUb_wzlXne4"
      },
      "source": [
        "from sklearn.model_selection import GridSearchCV\n",
        "param_grid = {'C':[1,10],\n",
        "              'gamma':[1,0.0001],\n",
        "              'kernel':['rbf']\n",
        "             }\n",
        "grid = GridSearchCV(model, param_grid, refit = True, verbose = 3) \n",
        "  \n",
        "# fitting the model for grid search \n",
        "grid.fit(x_train, y_train)"
      ],
      "execution_count": null,
      "outputs": []
    },
    {
      "cell_type": "code",
      "metadata": {
        "id": "G4Qvc7NtX0Ti"
      },
      "source": [
        "pred = grid.predict(x_test)"
      ],
      "execution_count": null,
      "outputs": []
    },
    {
      "cell_type": "code",
      "metadata": {
        "id": "BHozjWqkX5vS"
      },
      "source": [
        "print(classification_report(pred,y_test))"
      ],
      "execution_count": null,
      "outputs": []
    },
    {
      "cell_type": "markdown",
      "metadata": {
        "id": "NDuC0RxNvjyw"
      },
      "source": [
        "# **SVM FOR VOWELS**"
      ]
    },
    {
      "cell_type": "code",
      "metadata": {
        "id": "YDKlK1Klvntc"
      },
      "source": [
        "pick_in = open('nhcd_vowels_svm','rb')\n",
        "data=pickle.load(pick_in)\n",
        "pick_in.close()"
      ],
      "execution_count": null,
      "outputs": []
    },
    {
      "cell_type": "code",
      "metadata": {
        "id": "k_L-g2H7zoVU",
        "colab": {
          "base_uri": "https://localhost:8080/"
        },
        "outputId": "d68b15c7-3e4b-491c-8981-91bdbde6fe1d"
      },
      "source": [
        "random.shuffle(data)\n",
        "features=[]\n",
        "labels=[]\n",
        "\n",
        "for feature,label in data:\n",
        "    features.append(feature)\n",
        "    labels.append(label)\n",
        "\n",
        "x_train,x_test,y_train,y_test = train_test_split(features,labels,test_size=0.25)\n",
        "\n",
        "x_train=np.array(x_train)\n",
        "x_test=np.array(x_test)\n",
        "print(x_train[0].shape)\n",
        "print(x_test[0].shape)\n",
        "\n",
        "from sklearn.svm import SVC\n",
        "model = SVC()\n",
        "model.fit(x_train,y_train)\n",
        "pred = model.predict(x_test)\n",
        "print(classification_report(pred,y_test))"
      ],
      "execution_count": null,
      "outputs": [
        {
          "output_type": "stream",
          "text": [
            "(784,)\n",
            "(784,)\n",
            "              precision    recall  f1-score   support\n",
            "\n",
            "           0       1.00      1.00      1.00        73\n",
            "           1       1.00      1.00      1.00        69\n",
            "           2       0.97      0.93      0.95        83\n",
            "           3       0.94      0.96      0.95        83\n",
            "           4       1.00      0.93      0.96        80\n",
            "           5       0.93      1.00      0.97        70\n",
            "           6       0.92      1.00      0.96        61\n",
            "           7       0.97      0.98      0.98        61\n",
            "           8       1.00      1.00      1.00        75\n",
            "           9       1.00      0.95      0.98        65\n",
            "\n",
            "    accuracy                           0.97       720\n",
            "   macro avg       0.97      0.98      0.97       720\n",
            "weighted avg       0.97      0.97      0.97       720\n",
            "\n"
          ],
          "name": "stdout"
        }
      ]
    },
    {
      "cell_type": "markdown",
      "metadata": {
        "id": "kRB15MpAzozt"
      },
      "source": [
        "# **SVM FOR DHCD(32X32) Black bgnd**"
      ]
    },
    {
      "cell_type": "code",
      "metadata": {
        "id": "xy_xtRJFzvxf"
      },
      "source": [
        "# OUTPUT DICTIONARY\n",
        "'''\n",
        "dict_dhcd = {10:'ञ',\n",
        "11:'ट',\n",
        "12:'ठ',\n",
        "13:'ड',\n",
        "14:'ढ',\n",
        "15:'ण',\n",
        "16:'त',\n",
        "17:'थ',\n",
        "18:'द',\n",
        "19:'ध',\n",
        "1:'क',\n",
        "20:'न',\n",
        "21:'प',\n",
        "22:'फ',\n",
        "23:'ब',\n",
        "24:'भ',\n",
        "25:'म',\n",
        "26:'य',\n",
        "27:'र',\n",
        "28:'ल',\n",
        "29:'व',\n",
        "2:'ख',\n",
        "30:'श',\n",
        "31:'ष',\n",
        "32:'स',\n",
        "33:'ह',\n",
        "34:'क्ष',\n",
        "35:'त्र',\n",
        "36:'ज्ञ',\n",
        "3:'ग',\n",
        "4:'घ',\n",
        "5:'ङ',\n",
        "6:'च',\n",
        "7:'छ',\n",
        "8:'ज',\n",
        "9:'झ',\n",
        "digit_0:'0',\n",
        "digit_1:'1',\n",
        "digit_2:'2',\n",
        "digit_3:'3',\n",
        "digit_4:'4',\n",
        "digit_5:'5',\n",
        "digit_6:'6',\n",
        "digit_7:'7',\n",
        "digit_8:'8',\n",
        "digit_9:'9'\n",
        "}\n"
      ],
      "execution_count": null,
      "outputs": []
    },
    {
      "cell_type": "code",
      "metadata": {
        "id": "bDYTlfJ40cHW"
      },
      "source": [
        "pick_in = open('dhcd_conso_numb_svm','rb')\n",
        "data=pickle.load(pick_in)\n",
        "pick_in.close()"
      ],
      "execution_count": null,
      "outputs": []
    },
    {
      "cell_type": "code",
      "metadata": {
        "colab": {
          "base_uri": "https://localhost:8080/"
        },
        "id": "zv3fsflwclO5",
        "outputId": "de831692-2068-45e2-81e2-13673dc3fd34"
      },
      "source": [
        "random.shuffle(data)\n",
        "features=[]\n",
        "labels=[]\n",
        "\n",
        "for feature,label in data:\n",
        "    features.append(feature)\n",
        "    labels.append(label)\n",
        "\n",
        "x_train,x_test,y_train,y_test = train_test_split(features,labels,test_size=0.25)\n",
        "\n",
        "x_train=np.array(x_train)\n",
        "x_test=np.array(x_test)\n",
        "print(x_train[0].shape)\n",
        "print(x_test[0].shape)\n",
        "\n",
        "from sklearn.svm import SVC\n",
        "model = SVC()\n",
        "model.fit(x_train,y_train)\n",
        "pred = model.predict(x_test)\n",
        "print(classification_report(pred,y_test))"
      ],
      "execution_count": null,
      "outputs": [
        {
          "output_type": "stream",
          "text": [
            "(1024,)\n",
            "(1024,)\n",
            "              precision    recall  f1-score   support\n",
            "\n",
            "           1       0.98      0.98      0.98       442\n",
            "          10       0.95      0.93      0.94       434\n",
            "          11       0.95      0.95      0.95       419\n",
            "          12       0.97      0.95      0.96       446\n",
            "          13       0.94      0.91      0.92       413\n",
            "          14       0.94      0.95      0.94       415\n",
            "          15       0.95      0.89      0.92       412\n",
            "          16       0.94      0.95      0.95       425\n",
            "          17       0.88      0.88      0.88       442\n",
            "          18       0.91      0.89      0.90       383\n",
            "          19       0.91      0.88      0.89       404\n",
            "           2       0.94      0.92      0.93       456\n",
            "          20       0.92      0.92      0.92       413\n",
            "          21       0.93      0.88      0.90       451\n",
            "          22       0.97      0.93      0.95       413\n",
            "          23       0.88      0.90      0.89       414\n",
            "          24       0.91      0.93      0.92       414\n",
            "          25       0.89      0.86      0.87       407\n",
            "          26       0.90      0.88      0.89       452\n",
            "          27       0.95      0.96      0.96       420\n",
            "          28       0.94      0.97      0.96       431\n",
            "          29       0.90      0.92      0.91       396\n",
            "           3       0.89      0.96      0.92       384\n",
            "          30       0.94      0.91      0.92       433\n",
            "          31       0.93      0.91      0.92       418\n",
            "          32       0.86      0.90      0.88       443\n",
            "          33       0.90      0.96      0.93       413\n",
            "          34       0.92      0.93      0.93       429\n",
            "          35       0.91      0.89      0.90       443\n",
            "          36       0.93      0.94      0.94       433\n",
            "           4       0.91      0.86      0.88       427\n",
            "           5       0.88      0.93      0.90       389\n",
            "           6       0.94      0.96      0.95       395\n",
            "           7       0.92      0.95      0.93       412\n",
            "           8       0.94      0.97      0.95       433\n",
            "           9       0.96      0.99      0.97       435\n",
            "     digit_0       0.99      0.99      0.99       473\n",
            "     digit_1       0.99      0.98      0.99       453\n",
            "     digit_2       0.97      0.96      0.96       478\n",
            "     digit_3       0.97      0.97      0.97       412\n",
            "     digit_4       0.98      0.98      0.98       444\n",
            "     digit_5       0.98      0.97      0.98       432\n",
            "     digit_6       0.95      0.98      0.96       412\n",
            "     digit_7       0.99      0.98      0.99       422\n",
            "     digit_8       0.98      0.97      0.97       418\n",
            "     digit_9       0.99      0.99      0.99       417\n",
            "\n",
            "    accuracy                           0.94     19550\n",
            "   macro avg       0.94      0.94      0.94     19550\n",
            "weighted avg       0.94      0.94      0.94     19550\n",
            "\n"
          ],
          "name": "stdout"
        }
      ]
    },
    {
      "cell_type": "markdown",
      "metadata": {
        "id": "zIiKLO_x2uv1"
      },
      "source": [
        "# **TESTING CUSTOM INPUT IMAGES**"
      ]
    },
    {
      "cell_type": "code",
      "metadata": {
        "id": "qofNheuv20Yk"
      },
      "source": [
        "from skimage import io, color\n",
        "lina_color = io.imread(\"k44.png\")\n",
        "lina_gray = color.rgb2gray(lina_color)"
      ],
      "execution_count": null,
      "outputs": []
    },
    {
      "cell_type": "code",
      "metadata": {
        "id": "esQOfPOu22mP"
      },
      "source": [
        "lina_gray.shape"
      ],
      "execution_count": null,
      "outputs": []
    },
    {
      "cell_type": "code",
      "metadata": {
        "id": "Pcr8kFOY3DaF"
      },
      "source": [
        "# DO flattening and predicition"
      ],
      "execution_count": null,
      "outputs": []
    },
    {
      "cell_type": "markdown",
      "metadata": {
        "id": "0mdbMyUU2EXk"
      },
      "source": [
        "# **EXPORT MODELS**\n"
      ]
    },
    {
      "cell_type": "code",
      "metadata": {
        "id": "vWBOPysd2LpB"
      },
      "source": [
        "\n",
        "model_json = model.to_json()\n",
        "with open(\"modelletter.json\",\"w\") as json_file:\n",
        "  json_file.write(model_json)\n",
        "\n",
        "model.save_weights(\"modelletter.h5\")"
      ],
      "execution_count": null,
      "outputs": []
    }
  ]
}